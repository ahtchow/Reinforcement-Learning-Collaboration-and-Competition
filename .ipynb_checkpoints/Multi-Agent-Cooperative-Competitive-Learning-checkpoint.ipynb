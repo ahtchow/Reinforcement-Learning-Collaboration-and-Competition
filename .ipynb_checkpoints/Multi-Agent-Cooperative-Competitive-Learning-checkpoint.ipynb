{
 "cells": [
  {
   "cell_type": "markdown",
   "metadata": {},
   "source": [
    "# Reinforcement Learning: Multi-Agent Cooperative-Competitive Learning (Using DRL to learn Tennis)\n",
    "\n",
    "---\n",
    "\n",
    "In this environment, two agents control rackets to bounce a ball over a net. If an agent hits the ball over the net, it receives a reward of +0.1. If an agent lets a ball hit the ground or hits the ball out of bounds, it receives a reward of -0.01. Thus, the goal of each agent is to keep the ball in play.\n",
    "\n",
    "<img src=\"img/tennis.png\" alt=\"drawing\" width=\"500\"/>\n",
    "\n",
    "The observation space consists of 8 variables corresponding to the position and velocity of the ball and racket. Each agent receives its own, local observation. Two continuous actions are available, corresponding to movement toward (or away from) the net, and jumping.\n",
    "\n",
    "### Solving the Environment\n",
    "\n",
    "The task is episodic, and in order to solve the environment, your agents must get an average score of +0.5 (over 100 consecutive episodes, after taking the maximum over both agents). Specifically,\n",
    "\n",
    "- After each episode, we add up the rewards that each agent received (without discounting), to get a score for each agent. This yields 2 (potentially different) scores. We then take the maximum of these 2 scores.\n",
    "\n",
    "- This yields a single score for each episode.\n",
    "The environment is considered solved, when the average (over 100 episodes) of those scores is at least +0.5.\n",
    "\n",
    "### Academic Sources\n",
    "\n",
    "The following result is an implementation of a MA-DDPG (Multi Agent Deep Deterministic Policy Agent) inspired by OpenAI's paper titled [Multi-Agent Actor-Critic for Mixed.\n",
    "Cooperative-Competitive Environments](https://papers.nips.cc/paper/2017/file/68a9750337a418a86fe06c1991a1d64c-Paper.pdf). I have some notes to summarize my takeaways:\n",
    "\n",
    "- Traditional reinforcement learning approaches such as Q-Learning or policy gradient\n",
    "are poorly suited to multi-agent environments. One issue is that each agent’s policy is changing\n",
    "as training progresses, and the environment becomes non-stationary from the perspective of any\n",
    "individual agent.\n",
    "\n",
    "- **General Purpose Multi-Agent Learning Algorithm**:\n",
    " - (1) leads to learned policies that only use local information (i.e. their own observations) at execution time \n",
    " - (2) does not assume a differentiable model of the environment dynamics or any particular structure on the communication method between agents\n",
    " - (3) is applicable not only to cooperative interaction but to competitive or mixed interaction involving both physical and communicative behavior.\n",
    " \n",
    "- **Solution**: actor-critic policy gradient methods where the critic is\n",
    "augmented with extra information about the policies of other agents, while the actor only has access to local information\n",
    "\n",
    "- Agents can either be cooperative, competitive, or both and many\n",
    "algorithms are designed only for a particular nature of interaction. \n",
    "\n",
    "- Each agent i aims to maximize its own total expected return.\n",
    "- Markov Games, Q-Learning, DQN, Policy Gradient Algorithms all struggle for their own reasons\n",
    "\n",
    "- **Multi-Agent Actor Critic**:\n",
    "    - Constraints:\n",
    "        - (1) the learned policies can only use local information (i.e. their own observations) at execution time\n",
    "        - (2) we do not assume a differentiable model of the environment dynamics\n",
    "        - (3) we do not assume any particular structure on the communication method between agents \n",
    "    - Gradient: \n",
    "\n",
    "\n",
    "<img src=\"img/gradient2.png\" alt=\"drawing\" align=\"center\"  width=\"700\"/> -\n",
    "\n",
    "- Inferring Policies of Other Agents:\n",
    "    \n",
    "<img src=\"img/infering_policies.png\" alt=\"drawing\" align=\"center\"  width=\"700\"/> -\n",
    "\n",
    "\n",
    "\n",
    "---\n",
    "\n",
    "### Configuration\n",
    "\n",
    "Next, we will start the environment!  **_Before running the code cell below_**, change the `file_name` parameter to match the location of the Unity environment that you downloaded.\n",
    "\n",
    "- **Mac**: `\"path/to/Tennis.app\"`\n",
    "- **Windows** (x86): `\"path/to/Tennis_Windows_x86/Tennis.exe\"`\n",
    "- **Windows** (x86_64): `\"path/to/Tennis_Windows_x86_64/Tennis.exe\"`\n",
    "- **Linux** (x86): `\"path/to/Tennis_Linux/Tennis.x86\"`\n",
    "- **Linux** (x86_64): `\"path/to/Tennis_Linux/Tennis.x86_64\"`\n",
    "- **Linux** (x86, headless): `\"path/to/Tennis_Linux_NoVis/Tennis.x86\"`\n",
    "- **Linux** (x86_64, headless): `\"path/to/Tennis_Linux_NoVis/Tennis.x86_64\"`\n",
    "\n",
    "For instance, if you are using a Mac, then you downloaded `Tennis.app`.  If this file is in the same folder as the notebook, then the line below should appear as follows:\n",
    "```\n",
    "env = UnityEnvironment(file_name=\"Tennis.app\")\n",
    "```"
   ]
  },
  {
   "cell_type": "markdown",
   "metadata": {},
   "source": [
    "---\n",
    "### Requirements\n",
    "\n",
    "Run the next code cell to install a few packages. This line will take a few minutes to run!"
   ]
  },
  {
   "cell_type": "code",
   "execution_count": 1,
   "metadata": {},
   "outputs": [],
   "source": [
    "#!pip install -r requirements.txt"
   ]
  },
  {
   "cell_type": "markdown",
   "metadata": {},
   "source": [
    "### Imports "
   ]
  },
  {
   "cell_type": "code",
   "execution_count": 2,
   "metadata": {},
   "outputs": [],
   "source": [
    "from unityagents import UnityEnvironment\n",
    "import numpy as np\n",
    "import torch\n",
    "import matplotlib.pyplot as plt\n",
    "%matplotlib inline\n",
    "\n",
    "from MADDPG import *\n",
    "from utils import *"
   ]
  },
  {
   "cell_type": "markdown",
   "metadata": {},
   "source": [
    "### Unity Environment"
   ]
  },
  {
   "cell_type": "code",
   "execution_count": 3,
   "metadata": {},
   "outputs": [
    {
     "name": "stderr",
     "output_type": "stream",
     "text": [
      "INFO:unityagents:\n",
      "'Academy' started successfully!\n",
      "Unity Academy name: Academy\n",
      "        Number of Brains: 1\n",
      "        Number of External Brains : 1\n",
      "        Lesson number : 0\n",
      "        Reset Parameters :\n",
      "\t\t\n",
      "Unity brain name: TennisBrain\n",
      "        Number of Visual Observations (per agent): 0\n",
      "        Vector Observation space type: continuous\n",
      "        Vector Observation space size (per agent): 8\n",
      "        Number of stacked Vector Observation: 3\n",
      "        Vector Action space type: continuous\n",
      "        Vector Action space size (per agent): 2\n",
      "        Vector Action descriptions: , \n"
     ]
    }
   ],
   "source": [
    "env = UnityEnvironment(file_name=\"Tennis_Windows_x86_64/tennis.exe\")"
   ]
  },
  {
   "cell_type": "markdown",
   "metadata": {},
   "source": [
    "Environments contain **_brains_** which are responsible for deciding the actions of their associated agents. Here we check for the first brain available, and set it as the default brain we will be controlling from Python."
   ]
  },
  {
   "cell_type": "code",
   "execution_count": 4,
   "metadata": {},
   "outputs": [],
   "source": [
    "# get the default brain\n",
    "brain_name = env.brain_names[0]\n",
    "brain = env.brains[brain_name]"
   ]
  },
  {
   "cell_type": "markdown",
   "metadata": {},
   "source": [
    "### Examine the State and Action Spaces\n",
    "\n",
    "In this environment, two agents control rackets to bounce a ball over a net. If an agent hits the ball over the net, it receives a reward of +0.1.  If an agent lets a ball hit the ground or hits the ball out of bounds, it receives a reward of -0.01.  Thus, the goal of each agent is to keep the ball in play.\n",
    "\n",
    "The observation space consists of 8 variables corresponding to the position and velocity of the ball and racket. Two continuous actions are available, corresponding to movement toward (or away from) the net, and jumping. \n",
    "\n",
    "Run the code cell below to print some information about the environment."
   ]
  },
  {
   "cell_type": "code",
   "execution_count": 5,
   "metadata": {},
   "outputs": [],
   "source": [
    "def examine_environment(env, brain):\n",
    "\n",
    "    # reset the environment\n",
    "    env_info = env.reset(train_mode=True)[brain_name]\n",
    "\n",
    "    # number of agents \n",
    "    num_agents = len(env_info.agents)\n",
    "    print('Number of agents:', num_agents)\n",
    "\n",
    "    # size of each action\n",
    "    action_size = brain.vector_action_space_size\n",
    "    print('Size of each action:', action_size)\n",
    "\n",
    "    # examine the state space \n",
    "    states = env_info.vector_observations\n",
    "    state_size = states.shape[1]\n",
    "    print('There are {} agents. Each observes a state with length: {}'.format(states.shape[0], state_size))\n",
    "    print('The state for the first agent looks like:\\n', states[0])"
   ]
  },
  {
   "cell_type": "code",
   "execution_count": 6,
   "metadata": {},
   "outputs": [
    {
     "name": "stdout",
     "output_type": "stream",
     "text": [
      "Number of agents: 2\n",
      "Size of each action: 2\n",
      "There are 2 agents. Each observes a state with length: 24\n",
      "The state for the first agent looks like:\n",
      " [ 0.          0.          0.          0.          0.          0.\n",
      "  0.          0.          0.          0.          0.          0.\n",
      "  0.          0.          0.          0.         -7.38993645 -1.5\n",
      " -0.          0.          6.83172083  5.99607611 -0.          0.        ]\n"
     ]
    }
   ],
   "source": [
    "# reset the environment\n",
    "env_info = env.reset(train_mode=True)[brain_name]\n",
    "\n",
    "# Info \n",
    "states = env_info.vector_observations \n",
    "state_size = states.shape[1]\n",
    "action_size = brain.vector_action_space_size, \n",
    "examine_environment(env, brain)\n",
    "num_agents = len(env_info.agents)\n",
    "\n",
    "maddpg = MADDPG(state_size, action_size[0], num_agents, seed=0)"
   ]
  },
  {
   "cell_type": "code",
   "execution_count": 7,
   "metadata": {},
   "outputs": [],
   "source": [
    "def maddpg_train(agent,\n",
    "                  env,\n",
    "                  brain_name,\n",
    "                  n_agents,\n",
    "                  n_episodes=10000,\n",
    "                  max_t=10000,\n",
    "                  print_every=100,\n",
    "                  win_condition=0.5):\n",
    "    \n",
    "    \"\"\"\n",
    "    \n",
    "    Continious Control using DDPG.\n",
    "    \n",
    "    Params\n",
    "    ======\n",
    "        n_episodes (int): maximum number of training episodes\n",
    "        max_t (int): maximum number of timesteps per episode\n",
    "        print_every (int): how many episodes before printing scores\n",
    "        n_agents (int): how many arms are in the environment\n",
    "    \n",
    "    \"\"\"    \n",
    "\n",
    "    scores_deque = deque(maxlen=100)\n",
    "    scores = []\n",
    "    average_scores_list = []\n",
    "    \n",
    "    for i_episode in tqdm(range(1, n_episodes+1)):\n",
    "        \n",
    "        env_info = env.reset(train_mode=True)[brain_name] # reset the environment\n",
    "        states = env_info.vector_observations             # get the current state (for each agent)\n",
    "        score = np.zeros(n_agents)                     # initialize the score (for each agent)\n",
    "        \n",
    "        for t in range(max_t):\n",
    "            actions = agent.act(states)                   # consult agent for actions\n",
    "            env_info = env.step(actions)[brain_name]      # take a step in the env\n",
    "            next_states = env_info.vector_observations    # get next state (for each agent)\n",
    "            rewards = env_info.rewards                    # get reward (for each agent)\n",
    "            dones = env_info.local_done                   # see if episode finished\n",
    "            agent.step(states, actions, rewards, next_states, dones)  # take a learning step\n",
    "            score += rewards                              # update the score (for each agent)\n",
    "            states = next_states                          # roll over states to next time step\n",
    "            if np.any(dones):                             # exit loop if episode finished\n",
    "                break\n",
    "        \n",
    "        score_max = np.max(score)\n",
    "        scores.append(score_max)\n",
    "        scores_deque.append(score_max)\n",
    "        average_score = np.mean(scores_deque)\n",
    "        average_scores_list.append(average_score)\n",
    "        \n",
    "        print('\\rEpisode {}\\tAverage Score: {:.3f}'.format(i_episode, np.mean(scores_deque)), end=\"\")  \n",
    "\n",
    "        if i_episode % 100 == 0:\n",
    "            print('\\rEpisode {}\\tAverage score: {:.3f}'.format(i_episode , average_score))\n",
    "        \n",
    "        # Winning condition + save model parameters    \n",
    "        if average_score >= win_condition:\n",
    "            print(\"\\rSolved in episode: {} \\tAverage score: {:.3f}\".format(i_episode , average_score))\n",
    "            break\n",
    "\n",
    "    execution_info = {'last_score': scores.pop(),\n",
    "                      'solved_in': i_episode,\n",
    "                      'last_100_avg': average_score}\n",
    "    \n",
    "    return scores, average_scores_list, execution_info "
   ]
  },
  {
   "cell_type": "code",
   "execution_count": null,
   "metadata": {
    "scrolled": false
   },
   "outputs": [
    {
     "data": {
      "application/vnd.jupyter.widget-view+json": {
       "model_id": "e6e066e41a224319b9cd230671fd4905",
       "version_major": 2,
       "version_minor": 0
      },
      "text/plain": [
       "HBox(children=(HTML(value=''), FloatProgress(value=0.0, max=10000.0), HTML(value='')))"
      ]
     },
     "metadata": {},
     "output_type": "display_data"
    },
    {
     "name": "stdout",
     "output_type": "stream",
     "text": [
      "Episode 16\tAverage Score: 0.006"
     ]
    },
    {
     "name": "stderr",
     "output_type": "stream",
     "text": [
      "C:\\Users\\ad55a\\Documents\\GitHub\\Reinforcement-Learning-Collaboration-and-Competition\\MADDPG.py:184: UserWarning: Using a target size (torch.Size([250, 2])) that is different to the input size (torch.Size([250, 1])). This will likely lead to incorrect results due to broadcasting. Please ensure they have the same size.\n",
      "  critic_loss = F.mse_loss(Q_expected, Q_targets)\n"
     ]
    },
    {
     "name": "stdout",
     "output_type": "stream",
     "text": [
      "Episode 100\tAverage score: 0.005\n",
      "Episode 200\tAverage score: 0.007\n",
      "Episode 300\tAverage score: 0.001\n",
      "Episode 400\tAverage score: 0.030\n",
      "Episode 500\tAverage score: 0.028\n",
      "Episode 600\tAverage score: 0.053\n",
      "Episode 668\tAverage Score: 0.068"
     ]
    }
   ],
   "source": [
    " scores, scores_deque, execution_info = maddpg_train(maddpg, env, brain_name, num_agents)"
   ]
  },
  {
   "cell_type": "code",
   "execution_count": null,
   "metadata": {},
   "outputs": [],
   "source": [
    "maddpg.save_weights()"
   ]
  }
 ],
 "metadata": {
  "kernelspec": {
   "display_name": "Python 3",
   "language": "python",
   "name": "python3"
  },
  "language_info": {
   "codemirror_mode": {
    "name": "ipython",
    "version": 3
   },
   "file_extension": ".py",
   "mimetype": "text/x-python",
   "name": "python",
   "nbconvert_exporter": "python",
   "pygments_lexer": "ipython3",
   "version": "3.6.3"
  }
 },
 "nbformat": 4,
 "nbformat_minor": 2
}
