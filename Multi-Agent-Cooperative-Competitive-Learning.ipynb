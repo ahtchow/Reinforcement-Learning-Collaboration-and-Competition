{
 "cells": [
  {
   "cell_type": "markdown",
   "metadata": {},
   "source": [
    "# Reinforcement Learning: Multi-Agent Cooperative-Competitive Learning (Using DRL to learn Tennis)\n",
    "\n",
    "---\n",
    "\n",
    "In this environment, two agents control rackets to bounce a ball over a net. If an agent hits the ball over the net, it receives a reward of +0.1. If an agent lets a ball hit the ground or hits the ball out of bounds, it receives a reward of -0.01. Thus, the goal of each agent is to keep the ball in play.\n",
    "\n",
    "<img src=\"img/tennis.png\" alt=\"drawing\" width=\"500\"/>\n",
    "\n",
    "The observation space consists of 8 variables corresponding to the position and velocity of the ball and racket. Each agent receives its own, local observation. Two continuous actions are available, corresponding to movement toward (or away from) the net, and jumping.\n",
    "\n",
    "### Solving the Environment\n",
    "\n",
    "The task is episodic, and in order to solve the environment, your agents must get an average score of +0.5 (over 100 consecutive episodes, after taking the maximum over both agents). Specifically,\n",
    "\n",
    "- After each episode, we add up the rewards that each agent received (without discounting), to get a score for each agent. This yields 2 (potentially different) scores. We then take the maximum of these 2 scores.\n",
    "\n",
    "- This yields a single score for each episode.\n",
    "The environment is considered solved, when the average (over 100 episodes) of those scores is at least +0.5.\n",
    "\n",
    "### Academic Sources\n",
    "\n",
    "The following result is an implementation of a MA-DDPG (Multi Agent Deep Deterministic Policy Agent) inspired by OpenAI's paper titled [Multi-Agent Actor-Critic for Mixed.\n",
    "Cooperative-Competitive Environments](https://papers.nips.cc/paper/2017/file/68a9750337a418a86fe06c1991a1d64c-Paper.pdf). I have some notes to summarize my takeaways:\n",
    "\n",
    "- Traditional reinforcement learning approaches such as Q-Learning or policy gradient\n",
    "are poorly suited to multi-agent environments. One issue is that each agent’s policy is changing\n",
    "as training progresses, and the environment becomes non-stationary from the perspective of any\n",
    "individual agent.\n",
    "\n",
    "- **General Purpose Multi-Agent Learning Algorithm**:\n",
    " - (1) leads to learned policies that only use local information (i.e. their own observations) at execution time \n",
    " - (2) does not assume a differentiable model of the environment dynamics or any particular structure on the communication method between agents\n",
    " - (3) is applicable not only to cooperative interaction but to competitive or mixed interaction involving both physical and communicative behavior.\n",
    " \n",
    "- **Solution**: actor-critic policy gradient methods where the critic is\n",
    "augmented with extra information about the policies of other agents, while the actor only has access to local information\n",
    "\n",
    "- Agents can either be cooperative, competitive, or both and many\n",
    "algorithms are designed only for a particular nature of interaction. \n",
    "\n",
    "- Each agent i aims to maximize its own total expected return.\n",
    "- Markov Games, Q-Learning, DQN, Policy Gradient Algorithms all struggle for their own reasons\n",
    "\n",
    "- **Multi-Agent Actor Critic**:\n",
    "    - Constraints:\n",
    "        - (1) the learned policies can only use local information (i.e. their own observations) at execution time\n",
    "        - (2) we do not assume a differentiable model of the environment dynamics\n",
    "        - (3) we do not assume any particular structure on the communication method between agents \n",
    "    - Gradient: \n",
    "\n",
    "\n",
    "<img src=\"img/gradient2.png\" alt=\"drawing\" align=\"center\"  width=\"700\"/> -\n",
    "\n",
    "- Inferring Policies of Other Agents:\n",
    "    \n",
    "<img src=\"img/infering_policies.png\" alt=\"drawing\" align=\"center\"  width=\"700\"/> -\n",
    "\n",
    "\n",
    "\n",
    "---\n",
    "\n",
    "### Configuration\n",
    "\n",
    "Next, we will start the environment!  **_Before running the code cell below_**, change the `file_name` parameter to match the location of the Unity environment that you downloaded.\n",
    "\n",
    "- **Mac**: `\"path/to/Tennis.app\"`\n",
    "- **Windows** (x86): `\"path/to/Tennis_Windows_x86/Tennis.exe\"`\n",
    "- **Windows** (x86_64): `\"path/to/Tennis_Windows_x86_64/Tennis.exe\"`\n",
    "- **Linux** (x86): `\"path/to/Tennis_Linux/Tennis.x86\"`\n",
    "- **Linux** (x86_64): `\"path/to/Tennis_Linux/Tennis.x86_64\"`\n",
    "- **Linux** (x86, headless): `\"path/to/Tennis_Linux_NoVis/Tennis.x86\"`\n",
    "- **Linux** (x86_64, headless): `\"path/to/Tennis_Linux_NoVis/Tennis.x86_64\"`\n",
    "\n",
    "For instance, if you are using a Mac, then you downloaded `Tennis.app`.  If this file is in the same folder as the notebook, then the line below should appear as follows:\n",
    "```\n",
    "env = UnityEnvironment(file_name=\"Tennis.app\")\n",
    "```"
   ]
  },
  {
   "cell_type": "markdown",
   "metadata": {},
   "source": [
    "---\n",
    "### Requirements\n",
    "\n",
    "Run the next code cell to install a few packages. This line will take a few minutes to run!"
   ]
  },
  {
   "cell_type": "code",
   "execution_count": 1,
   "metadata": {},
   "outputs": [],
   "source": [
    "#!pip install -r requirements.txt"
   ]
  },
  {
   "cell_type": "markdown",
   "metadata": {},
   "source": [
    "### Imports "
   ]
  },
  {
   "cell_type": "code",
   "execution_count": 2,
   "metadata": {},
   "outputs": [],
   "source": [
    "from unityagents import UnityEnvironment\n",
    "import numpy as np\n",
    "import torch\n",
    "import matplotlib.pyplot as plt\n",
    "%matplotlib inline"
   ]
  },
  {
   "cell_type": "markdown",
   "metadata": {},
   "source": [
    "### Unity Environment"
   ]
  },
  {
   "cell_type": "code",
   "execution_count": 3,
   "metadata": {},
   "outputs": [
    {
     "name": "stderr",
     "output_type": "stream",
     "text": [
      "INFO:unityagents:\n",
      "'Academy' started successfully!\n",
      "Unity Academy name: Academy\n",
      "        Number of Brains: 1\n",
      "        Number of External Brains : 1\n",
      "        Lesson number : 0\n",
      "        Reset Parameters :\n",
      "\t\t\n",
      "Unity brain name: TennisBrain\n",
      "        Number of Visual Observations (per agent): 0\n",
      "        Vector Observation space type: continuous\n",
      "        Vector Observation space size (per agent): 8\n",
      "        Number of stacked Vector Observation: 3\n",
      "        Vector Action space type: continuous\n",
      "        Vector Action space size (per agent): 2\n",
      "        Vector Action descriptions: , \n"
     ]
    }
   ],
   "source": [
    "env = UnityEnvironment(file_name=\"Tennis_Windows_x86_64/tennis.exe\")"
   ]
  },
  {
   "cell_type": "markdown",
   "metadata": {},
   "source": [
    "Environments contain **_brains_** which are responsible for deciding the actions of their associated agents. Here we check for the first brain available, and set it as the default brain we will be controlling from Python."
   ]
  },
  {
   "cell_type": "code",
   "execution_count": 4,
   "metadata": {},
   "outputs": [],
   "source": [
    "# get the default brain\n",
    "brain_name = env.brain_names[0]\n",
    "brain = env.brains[brain_name]"
   ]
  },
  {
   "cell_type": "markdown",
   "metadata": {},
   "source": [
    "### Examine the State and Action Spaces\n",
    "\n",
    "In this environment, two agents control rackets to bounce a ball over a net. If an agent hits the ball over the net, it receives a reward of +0.1.  If an agent lets a ball hit the ground or hits the ball out of bounds, it receives a reward of -0.01.  Thus, the goal of each agent is to keep the ball in play.\n",
    "\n",
    "The observation space consists of 8 variables corresponding to the position and velocity of the ball and racket. Two continuous actions are available, corresponding to movement toward (or away from) the net, and jumping. \n",
    "\n",
    "Run the code cell below to print some information about the environment."
   ]
  },
  {
   "cell_type": "code",
   "execution_count": 5,
   "metadata": {},
   "outputs": [],
   "source": [
    "def examine_environment(env, brain):\n",
    "\n",
    "    # reset the environment\n",
    "    env_info = env.reset(train_mode=True)[brain_name]\n",
    "\n",
    "    # number of agents \n",
    "    num_agents = len(env_info.agents)\n",
    "    print('Number of agents:', num_agents)\n",
    "\n",
    "    # size of each action\n",
    "    action_size = brain.vector_action_space_size\n",
    "    print('Size of each action:', action_size)\n",
    "\n",
    "    # examine the state space \n",
    "    states = env_info.vector_observations\n",
    "    state_size = states.shape[1]\n",
    "    print('There are {} agents. Each observes a state with length: {}'.format(states.shape[0], state_size))\n",
    "    print('The state for the first agent looks like:\\n', states[0])"
   ]
  },
  {
   "cell_type": "code",
   "execution_count": 6,
   "metadata": {},
   "outputs": [
    {
     "name": "stdout",
     "output_type": "stream",
     "text": [
      "Number of agents: 2\n",
      "Size of each action: 2\n",
      "There are 2 agents. Each observes a state with length: 24\n",
      "The state for the first agent looks like:\n",
      " [ 0.          0.          0.          0.          0.          0.\n",
      "  0.          0.          0.          0.          0.          0.\n",
      "  0.          0.          0.          0.         -6.65278625 -1.5\n",
      " -0.          0.          6.83172083  6.         -0.          0.        ]\n"
     ]
    }
   ],
   "source": [
    "examine_environment(env, brain)"
   ]
  },
  {
   "cell_type": "markdown",
   "metadata": {},
   "source": [
    "### Take Random Actions in the Environment\n",
    "\n",
    "In the next code cell, you will learn how to use the Python API to control the agents and receive feedback from the environment.\n",
    "\n",
    "Once this cell is executed, you will watch the agents' performance, if they select actions at random with each time step.  A window should pop up that allows you to observe the agents.\n",
    "\n",
    "Of course, as part of the project, you'll have to change the code so that the agents are able to use their experiences to gradually choose better actions when interacting with the environment!"
   ]
  },
  {
   "cell_type": "code",
   "execution_count": 7,
   "metadata": {},
   "outputs": [
    {
     "name": "stdout",
     "output_type": "stream",
     "text": [
      "Number of agents: 2\n",
      "Size of each action: 2\n",
      "There are 2 agents. Each observes a state with length: 24\n",
      "The state for the first agent looks like: [ 0.          0.          0.          0.          0.          0.\n",
      "  0.          0.          0.          0.          0.          0.\n",
      "  0.          0.          0.          0.         -7.38993645 -1.5\n",
      " -0.          0.          6.83172083  5.99607611 -0.          0.        ]\n",
      "[0.0, 0.0]\n",
      "[False, False]\n",
      "[0.0, 0.0]\n",
      "[False, False]\n",
      "[0.0, 0.0]\n",
      "[False, False]\n",
      "[0.0, 0.0]\n",
      "[False, False]\n",
      "[0.0, 0.0]\n",
      "[False, False]\n",
      "[0.0, 0.0]\n",
      "[False, False]\n",
      "[0.0, 0.0]\n",
      "[False, False]\n",
      "[0.0, 0.0]\n",
      "[False, False]\n",
      "[0.0, 0.0]\n",
      "[False, False]\n",
      "[0.0, 0.0]\n",
      "[False, False]\n",
      "[0.0, 0.0]\n",
      "[False, False]\n",
      "[0.0, 0.0]\n",
      "[False, False]\n",
      "[0.0, 0.0]\n",
      "[False, False]\n",
      "[0.0, -0.009999999776482582]\n",
      "[True, True]\n",
      "Score (max over agents) from episode 1: 0.0\n",
      "[0.0, 0.0]\n",
      "[False, False]\n",
      "[0.0, 0.0]\n",
      "[False, False]\n",
      "[0.0, 0.0]\n",
      "[False, False]\n",
      "[0.0, 0.0]\n",
      "[False, False]\n",
      "[0.0, 0.0]\n",
      "[False, False]\n",
      "[0.0, 0.0]\n",
      "[False, False]\n",
      "[0.0, 0.0]\n",
      "[False, False]\n",
      "[0.0, 0.0]\n",
      "[False, False]\n",
      "[0.0, 0.0]\n",
      "[False, False]\n",
      "[0.0, 0.0]\n",
      "[False, False]\n",
      "[0.0, 0.0]\n",
      "[False, False]\n",
      "[0.0, 0.0]\n",
      "[False, False]\n",
      "[0.0, 0.0]\n",
      "[False, False]\n",
      "[0.0, 0.0]\n",
      "[False, False]\n",
      "[-0.009999999776482582, 0.0]\n",
      "[True, True]\n",
      "Score (max over agents) from episode 2: 0.0\n",
      "[0.0, 0.0]\n",
      "[False, False]\n",
      "[0.0, 0.0]\n",
      "[False, False]\n",
      "[0.0, 0.0]\n",
      "[False, False]\n",
      "[0.0, 0.0]\n",
      "[False, False]\n",
      "[0.0, 0.0]\n",
      "[False, False]\n",
      "[0.0, 0.0]\n",
      "[False, False]\n",
      "[0.0, 0.0]\n",
      "[False, False]\n",
      "[0.0, 0.0]\n",
      "[False, False]\n",
      "[0.0, 0.0]\n",
      "[False, False]\n",
      "[0.0, 0.0]\n",
      "[False, False]\n",
      "[0.0, 0.0]\n",
      "[False, False]\n",
      "[0.0, 0.0]\n",
      "[False, False]\n",
      "[0.0, 0.0]\n",
      "[False, False]\n",
      "[0.0, 0.0]\n",
      "[False, False]\n",
      "[0.0, 0.0]\n",
      "[False, False]\n",
      "[0.0, 0.0]\n",
      "[False, False]\n",
      "[0.0, 0.0]\n",
      "[False, False]\n",
      "[0.0, 0.10000000149011612]\n",
      "[False, False]\n",
      "[0.0, 0.0]\n",
      "[False, False]\n",
      "[0.0, 0.0]\n",
      "[False, False]\n",
      "[0.0, 0.0]\n",
      "[False, False]\n",
      "[0.0, 0.0]\n",
      "[False, False]\n",
      "[0.0, 0.0]\n",
      "[False, False]\n",
      "[0.0, 0.0]\n",
      "[False, False]\n",
      "[0.0, 0.0]\n",
      "[False, False]\n",
      "[0.0, 0.0]\n",
      "[False, False]\n",
      "[0.0, 0.0]\n",
      "[False, False]\n",
      "[0.0, 0.0]\n",
      "[False, False]\n",
      "[0.0, 0.0]\n",
      "[False, False]\n",
      "[0.0, -0.009999999776482582]\n",
      "[True, True]\n",
      "Score (max over agents) from episode 3: 0.09000000171363354\n",
      "[0.0, 0.0]\n",
      "[False, False]\n",
      "[0.0, 0.0]\n",
      "[False, False]\n",
      "[0.0, 0.0]\n",
      "[False, False]\n",
      "[0.0, 0.0]\n",
      "[False, False]\n",
      "[0.0, 0.0]\n",
      "[False, False]\n",
      "[0.0, 0.0]\n",
      "[False, False]\n",
      "[0.0, 0.0]\n",
      "[False, False]\n",
      "[0.0, 0.0]\n",
      "[False, False]\n",
      "[0.0, 0.0]\n",
      "[False, False]\n",
      "[0.0, 0.0]\n",
      "[False, False]\n",
      "[0.0, 0.0]\n",
      "[False, False]\n",
      "[0.0, 0.0]\n",
      "[False, False]\n",
      "[0.0, 0.0]\n",
      "[False, False]\n",
      "[-0.009999999776482582, 0.0]\n",
      "[True, True]\n",
      "Score (max over agents) from episode 4: 0.0\n",
      "[0.0, 0.0]\n",
      "[False, False]\n",
      "[0.0, 0.0]\n",
      "[False, False]\n",
      "[0.0, 0.0]\n",
      "[False, False]\n",
      "[0.0, 0.0]\n",
      "[False, False]\n",
      "[0.0, 0.0]\n",
      "[False, False]\n",
      "[0.0, 0.0]\n",
      "[False, False]\n",
      "[0.0, 0.0]\n",
      "[False, False]\n",
      "[0.0, 0.0]\n",
      "[False, False]\n",
      "[0.0, 0.0]\n",
      "[False, False]\n",
      "[0.0, 0.0]\n",
      "[False, False]\n",
      "[0.0, 0.0]\n",
      "[False, False]\n",
      "[0.0, 0.0]\n",
      "[False, False]\n",
      "[0.0, 0.0]\n",
      "[False, False]\n",
      "[0.0, 0.0]\n",
      "[False, False]\n",
      "[0.0, -0.009999999776482582]\n",
      "[True, True]\n",
      "Score (max over agents) from episode 5: 0.0\n"
     ]
    }
   ],
   "source": [
    "# reset the environment\n",
    "env_info = env.reset(train_mode=True)[brain_name]\n",
    "\n",
    "# number of agents \n",
    "num_agents = len(env_info.agents)\n",
    "print('Number of agents:', num_agents)\n",
    "\n",
    "# size of each action\n",
    "action_size = brain.vector_action_space_size\n",
    "print('Size of each action:', action_size)\n",
    "\n",
    "# examine the state space \n",
    "states = env_info.vector_observations\n",
    "state_size = states.shape[1]\n",
    "print('There are {} agents. Each observes a state with length: {}'.format(states.shape[0], state_size))\n",
    "print('The state for the first agent looks like:', states[0])\n",
    "\n",
    "\n",
    "for i in range(1, 6):                                      # play game for 5 episodes\n",
    "    env_info = env.reset(train_mode=False)[brain_name]     # reset the environment    \n",
    "    states = env_info.vector_observations                  # get the current state (for each agent)\n",
    "    scores = np.zeros(num_agents)                          # initialize the score (for each agent)\n",
    "    while True:\n",
    "        actions = np.random.randn(num_agents, action_size) # select an action (for each agent)\n",
    "        actions = np.clip(actions, -1, 1)                  # all actions between -1 and 1\n",
    "    \n",
    "        env_info = env.step(actions)[brain_name]           # send all actions to tne environment\n",
    "        next_states = env_info.vector_observations         # get next state (for each agent)\n",
    "        test = np.array(states).reshape(1,-1).squeeze()\n",
    "                \n",
    "        rewards = env_info.rewards                         # get reward (for each agent)\n",
    "        print(rewards)\n",
    "        dones = env_info.local_done                        # see if episode finished\n",
    "        print(dones)\n",
    "        scores += env_info.rewards                         # update the score (for each agent)\n",
    "        states = next_states                               # roll over states to next time step\n",
    "        if np.any(dones):                                  # exit loop if episode finished\n",
    "            break\n",
    "    print('Score (max over agents) from episode {}: {}'.format(i, np.max(scores)))"
   ]
  },
  {
   "cell_type": "markdown",
   "metadata": {},
   "source": [
    "When finished, you can close the environment."
   ]
  },
  {
   "cell_type": "code",
   "execution_count": 8,
   "metadata": {},
   "outputs": [],
   "source": [
    "env.close()"
   ]
  },
  {
   "cell_type": "code",
   "execution_count": 9,
   "metadata": {},
   "outputs": [
    {
     "name": "stdout",
     "output_type": "stream",
     "text": [
      "[array([-3.74744868, -0.18940151, -2.34056449, -4.57579613,  6.37251186,\n",
      "       -1.00070286, -2.34056449, -4.57579613, -0.7474491 , -0.70584118,\n",
      "       30.        , -5.5567956 ,  6.37251186, -1.92032266, 30.        ,\n",
      "       -5.5567956 , -0.96895272, -1.32038057,  1.55236363, -6.53779507,\n",
      "        6.37251186, -2.83994246,  1.55236363, -6.53779507, -8.36013603,\n",
      "        0.7468465 , 25.39654541,  1.50640261, -6.37251186, -1.00070286,\n",
      "       25.39654541,  1.50640261, -7.69723701,  0.83862674,  6.62897348,\n",
      "        0.52540255, -6.37251186, -1.92032266,  6.62897348,  0.52540255,\n",
      "       -5.72372007,  0.83230692, 19.73517227, -0.45559746, -6.37251186,\n",
      "       -2.83994246, 19.73517227, -0.45559746]), array([-3.74744868, -0.18940151, -2.34056449, -4.57579613,  6.37251186,\n",
      "       -1.00070286, -2.34056449, -4.57579613, -0.7474491 , -0.70584118,\n",
      "       30.        , -5.5567956 ,  6.37251186, -1.92032266, 30.        ,\n",
      "       -5.5567956 , -0.96895272, -1.32038057,  1.55236363, -6.53779507,\n",
      "        6.37251186, -2.83994246,  1.55236363, -6.53779507, -8.36013603,\n",
      "        0.7468465 , 25.39654541,  1.50640261, -6.37251186, -1.00070286,\n",
      "       25.39654541,  1.50640261, -7.69723701,  0.83862674,  6.62897348,\n",
      "        0.52540255, -6.37251186, -1.92032266,  6.62897348,  0.52540255,\n",
      "       -5.72372007,  0.83230692, 19.73517227, -0.45559746, -6.37251186,\n",
      "       -2.83994246, 19.73517227, -0.45559746]), array([-3.74744868, -0.18940151, -2.34056449, -4.57579613,  6.37251186,\n",
      "       -1.00070286, -2.34056449, -4.57579613, -0.7474491 , -0.70584118,\n",
      "       30.        , -5.5567956 ,  6.37251186, -1.92032266, 30.        ,\n",
      "       -5.5567956 , -0.96895272, -1.32038057,  1.55236363, -6.53779507,\n",
      "        6.37251186, -2.83994246,  1.55236363, -6.53779507, -8.36013603,\n",
      "        0.7468465 , 25.39654541,  1.50640261, -6.37251186, -1.00070286,\n",
      "       25.39654541,  1.50640261, -7.69723701,  0.83862674,  6.62897348,\n",
      "        0.52540255, -6.37251186, -1.92032266,  6.62897348,  0.52540255,\n",
      "       -5.72372007,  0.83230692, 19.73517227, -0.45559746, -6.37251186,\n",
      "       -2.83994246, 19.73517227, -0.45559746]), array([-3.74744868, -0.18940151, -2.34056449, -4.57579613,  6.37251186,\n",
      "       -1.00070286, -2.34056449, -4.57579613, -0.7474491 , -0.70584118,\n",
      "       30.        , -5.5567956 ,  6.37251186, -1.92032266, 30.        ,\n",
      "       -5.5567956 , -0.96895272, -1.32038057,  1.55236363, -6.53779507,\n",
      "        6.37251186, -2.83994246,  1.55236363, -6.53779507, -8.36013603,\n",
      "        0.7468465 , 25.39654541,  1.50640261, -6.37251186, -1.00070286,\n",
      "       25.39654541,  1.50640261, -7.69723701,  0.83862674,  6.62897348,\n",
      "        0.52540255, -6.37251186, -1.92032266,  6.62897348,  0.52540255,\n",
      "       -5.72372007,  0.83230692, 19.73517227, -0.45559746, -6.37251186,\n",
      "       -2.83994246, 19.73517227, -0.45559746]), array([-3.74744868, -0.18940151, -2.34056449, -4.57579613,  6.37251186,\n",
      "       -1.00070286, -2.34056449, -4.57579613, -0.7474491 , -0.70584118,\n",
      "       30.        , -5.5567956 ,  6.37251186, -1.92032266, 30.        ,\n",
      "       -5.5567956 , -0.96895272, -1.32038057,  1.55236363, -6.53779507,\n",
      "        6.37251186, -2.83994246,  1.55236363, -6.53779507, -8.36013603,\n",
      "        0.7468465 , 25.39654541,  1.50640261, -6.37251186, -1.00070286,\n",
      "       25.39654541,  1.50640261, -7.69723701,  0.83862674,  6.62897348,\n",
      "        0.52540255, -6.37251186, -1.92032266,  6.62897348,  0.52540255,\n",
      "       -5.72372007,  0.83230692, 19.73517227, -0.45559746, -6.37251186,\n",
      "       -2.83994246, 19.73517227, -0.45559746])]\n"
     ]
    }
   ],
   "source": [
    "print([test]*5)\n"
   ]
  },
  {
   "cell_type": "code",
   "execution_count": 111,
   "metadata": {
    "scrolled": false
   },
   "outputs": [
    {
     "name": "stdout",
     "output_type": "stream",
     "text": [
      "[array([-8.360136  ,  0.7468465 , 25.396545  ,  1.5064026 , -6.372512  ,\n",
      "       -1.0007029 , 25.396545  ,  1.5064026 , -7.697237  ,  0.83862674,\n",
      "        6.6289735 ,  0.52540255, -6.372512  , -1.9203227 ,  6.6289735 ,\n",
      "        0.52540255, -5.72372   ,  0.8323069 , 19.735172  , -0.45559746,\n",
      "       -6.372512  , -2.8399425 , 19.735172  , -0.45559746], dtype=float32), array([-8.360136  ,  0.7468465 , 25.396545  ,  1.5064026 , -6.372512  ,\n",
      "       -1.0007029 , 25.396545  ,  1.5064026 , -7.697237  ,  0.83862674,\n",
      "        6.6289735 ,  0.52540255, -6.372512  , -1.9203227 ,  6.6289735 ,\n",
      "        0.52540255, -5.72372   ,  0.8323069 , 19.735172  , -0.45559746,\n",
      "       -6.372512  , -2.8399425 , 19.735172  , -0.45559746], dtype=float32), array([-8.360136  ,  0.7468465 , 25.396545  ,  1.5064026 , -6.372512  ,\n",
      "       -1.0007029 , 25.396545  ,  1.5064026 , -7.697237  ,  0.83862674,\n",
      "        6.6289735 ,  0.52540255, -6.372512  , -1.9203227 ,  6.6289735 ,\n",
      "        0.52540255, -5.72372   ,  0.8323069 , 19.735172  , -0.45559746,\n",
      "       -6.372512  , -2.8399425 , 19.735172  , -0.45559746], dtype=float32), array([-8.360136  ,  0.7468465 , 25.396545  ,  1.5064026 , -6.372512  ,\n",
      "       -1.0007029 , 25.396545  ,  1.5064026 , -7.697237  ,  0.83862674,\n",
      "        6.6289735 ,  0.52540255, -6.372512  , -1.9203227 ,  6.6289735 ,\n",
      "        0.52540255, -5.72372   ,  0.8323069 , 19.735172  , -0.45559746,\n",
      "       -6.372512  , -2.8399425 , 19.735172  , -0.45559746], dtype=float32), array([-8.360136  ,  0.7468465 , 25.396545  ,  1.5064026 , -6.372512  ,\n",
      "       -1.0007029 , 25.396545  ,  1.5064026 , -7.697237  ,  0.83862674,\n",
      "        6.6289735 ,  0.52540255, -6.372512  , -1.9203227 ,  6.6289735 ,\n",
      "        0.52540255, -5.72372   ,  0.8323069 , 19.735172  , -0.45559746,\n",
      "       -6.372512  , -2.8399425 , 19.735172  , -0.45559746], dtype=float32)]\n",
      "tensor([[-8.3601,  0.7468, 25.3965,  1.5064, -6.3725, -1.0007, 25.3965,  1.5064,\n",
      "         -7.6972,  0.8386,  6.6290,  0.5254, -6.3725, -1.9203,  6.6290,  0.5254,\n",
      "         -5.7237,  0.8323, 19.7352, -0.4556, -6.3725, -2.8399, 19.7352, -0.4556],\n",
      "        [-8.3601,  0.7468, 25.3965,  1.5064, -6.3725, -1.0007, 25.3965,  1.5064,\n",
      "         -7.6972,  0.8386,  6.6290,  0.5254, -6.3725, -1.9203,  6.6290,  0.5254,\n",
      "         -5.7237,  0.8323, 19.7352, -0.4556, -6.3725, -2.8399, 19.7352, -0.4556],\n",
      "        [-8.3601,  0.7468, 25.3965,  1.5064, -6.3725, -1.0007, 25.3965,  1.5064,\n",
      "         -7.6972,  0.8386,  6.6290,  0.5254, -6.3725, -1.9203,  6.6290,  0.5254,\n",
      "         -5.7237,  0.8323, 19.7352, -0.4556, -6.3725, -2.8399, 19.7352, -0.4556],\n",
      "        [-8.3601,  0.7468, 25.3965,  1.5064, -6.3725, -1.0007, 25.3965,  1.5064,\n",
      "         -7.6972,  0.8386,  6.6290,  0.5254, -6.3725, -1.9203,  6.6290,  0.5254,\n",
      "         -5.7237,  0.8323, 19.7352, -0.4556, -6.3725, -2.8399, 19.7352, -0.4556],\n",
      "        [-8.3601,  0.7468, 25.3965,  1.5064, -6.3725, -1.0007, 25.3965,  1.5064,\n",
      "         -7.6972,  0.8386,  6.6290,  0.5254, -6.3725, -1.9203,  6.6290,  0.5254,\n",
      "         -5.7237,  0.8323, 19.7352, -0.4556, -6.3725, -2.8399, 19.7352, -0.4556]])\n"
     ]
    }
   ],
   "source": [
    "# print(test)\n",
    "ac = np.array([test] * 5)\n",
    "actions = np.vstack(ac)\n",
    "actions = torch.from_numpy(actions).float() # (float)\n",
    "# print(actions)\n",
    "actions = actions.detach().numpy().reshape(5,-1).squeeze()\n",
    "# print(actions)\n",
    "a = [np.split(action, num_agents)[1,] for action in actions]\n",
    "\n",
    "print(a)\n",
    "actions = torch.Tensor(a)\n",
    "print(actions)\n"
   ]
  },
  {
   "cell_type": "code",
   "execution_count": 114,
   "metadata": {},
   "outputs": [
    {
     "name": "stdout",
     "output_type": "stream",
     "text": [
      "torch.Size([5, 24])\n"
     ]
    }
   ],
   "source": [
    "print(actions.shape)"
   ]
  },
  {
   "cell_type": "markdown",
   "metadata": {},
   "source": [
    "### 4. It's Your Turn!\n",
    "\n",
    "Now it's your turn to train your own agent to solve the environment!  When training the environment, set `train_mode=True`, so that the line for resetting the environment looks like the following:\n",
    "```python\n",
    "env_info = env.reset(train_mode=True)[brain_name]\n",
    "```"
   ]
  },
  {
   "cell_type": "code",
   "execution_count": 118,
   "metadata": {},
   "outputs": [],
   "source": [
    "agent = 0\n",
    "opp_num = 1 if agent== 0 else 0"
   ]
  },
  {
   "cell_type": "code",
   "execution_count": 119,
   "metadata": {},
   "outputs": [
    {
     "data": {
      "text/plain": [
       "1"
      ]
     },
     "execution_count": 119,
     "metadata": {},
     "output_type": "execute_result"
    }
   ],
   "source": [
    "opp_num"
   ]
  },
  {
   "cell_type": "code",
   "execution_count": null,
   "metadata": {},
   "outputs": [],
   "source": []
  }
 ],
 "metadata": {
  "kernelspec": {
   "display_name": "Python 3",
   "language": "python",
   "name": "python3"
  },
  "language_info": {
   "codemirror_mode": {
    "name": "ipython",
    "version": 3
   },
   "file_extension": ".py",
   "mimetype": "text/x-python",
   "name": "python",
   "nbconvert_exporter": "python",
   "pygments_lexer": "ipython3",
   "version": "3.6.3"
  }
 },
 "nbformat": 4,
 "nbformat_minor": 2
}
